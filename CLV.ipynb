{
 "cells": [
  {
   "cell_type": "code",
   "execution_count": 22,
   "metadata": {},
   "outputs": [
    {
     "name": "stdout",
     "output_type": "stream",
     "text": [
      "Data has no missing values\n",
      "Range of transaction dates: 1/1/2011 - 9/9/2015\n",
      "The no. of unique customers: 1000\n",
      "*** Descriptive Statistics for Amount ***\n",
      "Min: -1.0\n",
      "Max: 2033.0\n",
      "Variance: 1499.5411107517461\n",
      "Standard Deviation: 38.72390877418945\n",
      "****************************\n"
     ]
    },
    {
     "data": {
      "text/plain": [
       "<matplotlib.axes._subplots.AxesSubplot at 0x11bc91668>"
      ]
     },
     "execution_count": 22,
     "metadata": {},
     "output_type": "execute_result"
    },
    {
     "data": {
      "image/png": "[encoded data removed]",
      "text/plain": [
       "<Figure size 432x288 with 1 Axes>"
      ]
     },
     "metadata": {
      "needs_background": "light"
     },
     "output_type": "display_data"
    }
   ],
   "source": [
    "import pandas as pd\n",
    "\n",
    "transactions = pd.read_csv('HW1 clv_transactions.csv', index_col = 'TransactionDate')\n",
    "\n",
    "#To check if data has any missing values\n",
    "if transactions.isnull().values.any():\n",
    "    print('Data has missing values')\n",
    "else:\n",
    "    print('Data has no missing values')\n",
    "\n",
    "#To find the range of Transaction Dates\n",
    "print('Range of transaction dates: '+ transactions.index.min() + ' - ' + transactions.index.max())\n",
    "\n",
    "#To find the no. of unique customers\n",
    "print('The no. of unique customers: '+ str(transactions['CustomerID'].nunique()))\n",
    "\n",
    "#To find the descriptive statistics on the dataset\n",
    "amount = transactions['Amount']\n",
    "print('*** Descriptive Statistics for Amount ***')\n",
    "print('Min: ' + str(amount.min()))\n",
    "print('Max: ' + str(amount.max()))\n",
    "print('Variance: ' + str(amount.var()))\n",
    "print('Standard Deviation: ' + str(amount.std()))\n",
    "print('****************************')\n",
    "\n",
    "#To check if transaction amount has increased over time due to inflation\n",
    "amount.plot()"
   ]
  },
  {
   "cell_type": "code",
   "execution_count": null,
   "metadata": {},
   "outputs": [],
   "source": [
    "\n"
   ]
  }
 ],
 "metadata": {
  "kernelspec": {
   "display_name": "Python 3",
   "language": "python",
   "name": "python3"
  },
  "language_info": {
   "codemirror_mode": {
    "name": "ipython",
    "version": 3
   },
   "file_extension": ".py",
   "mimetype": "text/x-python",
   "name": "python",
   "nbconvert_exporter": "python",
   "pygments_lexer": "ipython3",
   "version": "3.7.1"
  }
 },
 "nbformat": 4,
 "nbformat_minor": 2
}
