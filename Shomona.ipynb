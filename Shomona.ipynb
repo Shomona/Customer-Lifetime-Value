{
 "cells": [
  {
   "cell_type": "code",
   "execution_count": 1,
   "metadata": {
    "scrolled": false
   },
   "outputs": [
    {
     "name": "stdout",
     "output_type": "stream",
     "text": [
      "Data has no missing values\n",
      "Range of transaction dates: 1/1/2011 - 9/9/2015\n",
      "The no. of unique customers: 1000\n",
      "*** Descriptive Statistics for Amount ***\n",
      "Min: -1.0\n",
      "Max: 2033.0\n",
      "Variance: 1499.5411107517461\n",
      "Standard Deviation: 38.72390877418945\n",
      "****************************\n"
     ]
    },
    {
     "data": {
      "text/plain": [
       "<Figure size 640x480 with 1 Axes>"
      ]
     },
     "metadata": {},
     "output_type": "display_data"
    }
   ],
   "source": [
    "import pandas as pd\n",
    "import numpy as np\n",
    "import matplotlib.pyplot as plt\n",
    "\n",
    "transactions = pd.read_csv('HW1 clv_transactions.csv', index_col = 'TransactionDate')\n",
    "#To check if data has any missing values\n",
    "if transactions.isnull().values.any():\n",
    "    print('Data has missing values')\n",
    "else:\n",
    "    print('Data has no missing values')\n",
    "\n",
    "#To find the range of Transaction Dates\n",
    "print('Range of transaction dates: '+ transactions.index.min() + ' - ' + transactions.index.max())\n",
    "\n",
    "#To find the no. of unique customers\n",
    "print('The no. of unique customers: '+ str(transactions['CustomerID'].nunique()))\n",
    "\n",
    "#To find the descriptive statistics on the dataset\n",
    "amount = transactions['Amount']\n",
    "print('*** Descriptive Statistics for Amount ***')\n",
    "print('Min: ' + str(amount.min()))\n",
    "print('Max: ' + str(amount.max()))\n",
    "print('Variance: ' + str(amount.var()))\n",
    "print('Standard Deviation: ' + str(amount.std()))\n",
    "print('****************************')\n",
    "\n",
    "#To check if transaction amount has increased over time due to inflation\n",
    "amount.plot(kind = 'line')\n",
    "plt.show()"
   ]
  },
  {
   "cell_type": "code",
   "execution_count": 2,
   "metadata": {},
   "outputs": [
    {
     "name": "stdout",
     "output_type": "stream",
     "text": [
      "                 TransactionID  CustomerID  Amount\n",
      "TransactionDate                                   \n",
      "10/7/2011                   24           7  1003.0\n",
      "5/14/2014                  212          54  1027.0\n",
      "8/13/2012                 4178        1000  2033.0\n",
      "Empty DataFrame\n",
      "Columns: [TransactionID, CustomerID, Amount]\n",
      "Index: []\n",
      "Empty DataFrame\n",
      "Columns: [TransactionID, CustomerID, Amount]\n",
      "Index: []\n",
      "                 TransactionID  CustomerID  Amount\n",
      "TransactionDate                                   \n",
      "9/4/2012                     1           1   20.26\n",
      "5/15/2012                    2           2   10.87\n",
      "5/23/2014                    3           2    2.21\n",
      "10/24/2014                   4           2   10.48\n",
      "10/13/2012                   5           2    3.94\n",
      "1/23/2013                    6           2   12.37\n",
      "3/9/2014                     7           2    1.59\n",
      "11/17/2013                   8           2    2.75\n",
      "10/10/2014                   9           2    3.51\n",
      "11/26/2012                  10           3   21.58\n",
      "3/14/2013                   11           3   15.43\n",
      "3/10/2014                   12           3    5.45\n",
      "4/28/2015                   13           3    1.67\n",
      "10/8/2014                   14           3    2.23\n",
      "3/20/2013                   15           3    9.92\n",
      "8/10/2015                   16           3    6.16\n",
      "7/7/2015                    17           4    0.54\n",
      "1/24/2015                   18           5   14.54\n",
      "4/11/2015                   19           5    6.90\n",
      "2/7/2013                    20           6    2.56\n",
      "8/16/2012                   21           7   17.02\n",
      "2/1/2013                    22           7    8.18\n",
      "10/5/2012                   23           7    9.44\n",
      "1/23/2012                   25           8    6.21\n",
      "10/18/2013                  26           8    2.35\n",
      "12/14/2015                  27           8    0.52\n",
      "6/9/2014                    28           8    6.58\n",
      "2/4/2010                    29           9    0.74\n",
      "5/23/2014                   30           9   11.87\n",
      "12/6/2010                   31           9   15.50\n",
      "...                        ...         ...     ...\n",
      "9/29/2010                 4156         998   16.14\n",
      "4/20/2013                 4157         998   10.98\n",
      "4/9/2012                  4158         998   15.83\n",
      "5/19/2012                 4159         998    7.78\n",
      "4/6/2012                  4160         998    5.46\n",
      "12/22/2015                4161         998    7.10\n",
      "3/6/2012                  4162         998   17.80\n",
      "11/6/2012                 4163         998   12.61\n",
      "4/18/2011                 4164         999    1.25\n",
      "3/8/2015                  4165         999   13.61\n",
      "6/17/2011                 4166         999    0.80\n",
      "3/3/2010                  4167        1000    5.39\n",
      "4/18/2014                 4168        1000   15.19\n",
      "10/11/2010                4169        1000    4.97\n",
      "10/28/2010                4170        1000   14.39\n",
      "12/24/2012                4171        1000   10.85\n",
      "1/29/2013                 4172        1000    5.54\n",
      "1/2/2015                  4173        1000    3.06\n",
      "10/28/2012                4174        1000   11.06\n",
      "8/30/2015                 4175        1000    3.58\n",
      "2/5/2013                  4176        1000    0.83\n",
      "5/15/2012                 4177        1000   14.10\n",
      "7/24/2013                 4179        1000   10.57\n",
      "4/15/2011                 4180        1000    4.42\n",
      "9/18/2012                 4181        1000    9.69\n",
      "6/23/2013                 4182        1000    3.86\n",
      "8/7/2011                  4183        1000    4.00\n",
      "10/7/2012                 4184        1000   18.37\n",
      "1/9/2014                  4185        1000    3.45\n",
      "4/30/2011                 4186        1000    5.18\n",
      "\n",
      "[4183 rows x 3 columns]\n"
     ]
    }
   ],
   "source": [
    "#Display outliers\n",
    "print(transactions[~(np.abs(transactions.Amount- transactions.Amount.mean()) <= (3*transactions.Amount.std()))])\n",
    "print(transactions[~(np.abs(transactions.CustomerID- transactions.CustomerID.mean()) <= (3*transactions.CustomerID.std()))])\n",
    "print(transactions[~(np.abs(transactions.TransactionID- transactions.TransactionID.mean()) <= (3*transactions.TransactionID.std()))])\n",
    "\n",
    "#Remove the Amount outliers\n",
    "cleaned_transactions = transactions[np.abs(transactions.Amount- transactions.Amount.mean()) <= (3*transactions.Amount.std())]\n",
    "print(cleaned_transactions)\n"
   ]
  },
  {
   "cell_type": "code",
   "execution_count": 3,
   "metadata": {},
   "outputs": [
    {
     "name": "stdout",
     "output_type": "stream",
     "text": [
      "                 TransactionID  CustomerID  Amount  Origin\n",
      "TransactionDate                                           \n",
      "2010-01-04                1737         429    3.27    2010\n",
      "2010-01-05                 817         211    0.67    2010\n",
      "2010-01-07                1257         322   13.02    2010\n",
      "2010-01-09                3288         802   14.21    2010\n",
      "2010-01-09                2628         660    4.34    2010\n",
      "2010-01-13                2543         644    0.26    2010\n",
      "2010-01-17                3588         870    8.27    2010\n",
      "2010-01-18                1683         415   23.18    2010\n",
      "2010-01-26                3603         874    0.69    2010\n",
      "2010-01-28                2246         569   27.85    2010\n",
      "2010-01-30                2978         727    1.28    2010\n",
      "2010-01-31                3348         816   15.04    2010\n",
      "2010-02-03                2611         655    6.97    2010\n",
      "2010-02-03                 489         117    1.08    2010\n",
      "2010-02-04                  29           9    0.74    2010\n",
      "2010-02-07                3396         828   16.19    2010\n",
      "2010-02-07                3599         873    5.17    2010\n",
      "2010-02-08                3990         961    3.84    2010\n",
      "2010-02-09                1277         328    8.09    2010\n",
      "2010-02-10                3388         827    3.40    2010\n",
      "2010-02-12                3711         903   17.70    2010\n",
      "2010-02-16                1537         386    8.50    2010\n",
      "2010-02-16                2008         496   13.54    2010\n",
      "2010-02-19                 823         211   21.40    2010\n",
      "2010-02-21                3706         902    3.66    2010\n",
      "2010-02-22                4085         980   12.35    2010\n",
      "2010-02-23                2503         635    5.09    2010\n",
      "2010-02-26                4089         980   11.16    2010\n",
      "2010-02-28                2788         697   13.59    2010\n",
      "2010-03-01                3924         947    2.25    2010\n",
      "...                        ...         ...     ...     ...\n",
      "2015-12-21                3014         735   10.15    2015\n",
      "2015-12-21                 658         170   10.43    2014\n",
      "2015-12-21                3091         754    3.70    2010\n",
      "2015-12-22                1092         281    3.28    2013\n",
      "2015-12-22                4161         998    7.10    2010\n",
      "2015-12-24                 967         241   24.47    2015\n",
      "2015-12-24                2925         717   12.74    2010\n",
      "2015-12-24                1718         422    7.42    2014\n",
      "2015-12-24                 578         141    4.38    2015\n",
      "2015-12-24                 612         153    0.53    2015\n",
      "2015-12-25                1309         332    0.46    2013\n",
      "2015-12-25                2068         512   18.36    2012\n",
      "2015-12-25                 620         157    1.29    2015\n",
      "2015-12-26                4098         982    0.09    2011\n",
      "2015-12-26                3949         955   12.00    2011\n",
      "2015-12-26                 462         112    7.24    2013\n",
      "2015-12-26                 907         231   10.27    2013\n",
      "2015-12-26                3406         832    6.55    2015\n",
      "2015-12-27                1815         448    6.64    2014\n",
      "2015-12-27                2508         635    0.06    2010\n",
      "2015-12-27                1335         343   14.68    2012\n",
      "2015-12-27                1143         290    1.03    2015\n",
      "2015-12-28                1580         392    8.70    2012\n",
      "2015-12-28                2923         716    7.43    2015\n",
      "2015-12-28                 411          98   15.19    2010\n",
      "2015-12-29                1393         353    9.00    2015\n",
      "2015-12-29                 656         169    4.17    2011\n",
      "2015-12-29                3048         745    8.51    2014\n",
      "2015-12-30                1716         421    4.28    2015\n",
      "2015-12-31                1003         255    5.74    2015\n",
      "\n",
      "[4183 rows x 4 columns]\n"
     ]
    }
   ],
   "source": [
    "cleaned_transactions = cleaned_transactions.set_index(pd.to_datetime(cleaned_transactions.index))\n",
    "cleaned_transactions['TransactionYear'] = cleaned_transactions.index.year\n",
    "\n",
    "#Sorted the transaction data according to dates\n",
    "\n",
    "cleaned_transactions = cleaned_transactions.sort_index()\n",
    "cust_map = pd.DataFrame()\n",
    "\n",
    "cust_map = cleaned_transactions.groupby('CustomerID').first()\n",
    "\n",
    "cleaned_transactions['Origin'] = 0\n",
    "#print(cust_map)\n",
    "\n",
    "cleaned_transactions['Origin'] = cleaned_transactions['CustomerID'].apply(lambda x: int(cust_map.loc[x].TransactionYear))\n",
    "cleaned_transactions = cleaned_transactions.drop(columns = 'TransactionYear')    \n",
    "print(cleaned_transactions)"
   ]
  },
  {
   "cell_type": "code",
   "execution_count": 4,
   "metadata": {
    "scrolled": false
   },
   "outputs": [
    {
     "name": "stdout",
     "output_type": "stream",
     "text": [
      "            12      24      36      48      60      72\n",
      "Origin                                                \n",
      "2010   2259.67 3614.78 5274.81 6632.37 7930.69 8964.49\n",
      "2011   2238.46 3756.90 5464.99 6702.11 7861.24        \n",
      "2012   2181.35 3874.69 5226.86 6501.85                \n",
      "2013   2179.85 3608.81 5226.75                        \n",
      "2014   1830.85 3262.05                                \n",
      "2015   1912.17                                        \n"
     ]
    }
   ],
   "source": [
    "#The dataframe to store the actual transaction amt per age\n",
    "new = pd.DataFrame()\n",
    "\n",
    "\n",
    "#Setting up conditions for each transaction period\n",
    "cond1 = pd.DatetimeIndex(cleaned_transactions.index).year - cleaned_transactions['Origin'] < 1\n",
    "cond2 = pd.DatetimeIndex(cleaned_transactions.index).year - cleaned_transactions['Origin'] < 2\n",
    "cond3 = pd.DatetimeIndex(cleaned_transactions.index).year - cleaned_transactions['Origin'] < 3\n",
    "cond4 = pd.DatetimeIndex(cleaned_transactions.index).year - cleaned_transactions['Origin'] < 4\n",
    "cond5 = pd.DatetimeIndex(cleaned_transactions.index).year - cleaned_transactions['Origin'] < 5\n",
    "cond6 = pd.DatetimeIndex(cleaned_transactions.index).year - cleaned_transactions['Origin'] < 6\n",
    "\n",
    "\n",
    "#Extracting the year and assigning it to the appropriate group\n",
    "new['12'] = cleaned_transactions[cond1].groupby('Origin').sum()['Amount']\n",
    "new['24'] = cleaned_transactions[cond2].groupby('Origin').sum()['Amount']\n",
    "new['36'] = cleaned_transactions[cond3].groupby('Origin').sum()['Amount']\n",
    "new['48'] = cleaned_transactions[cond4].groupby('Origin').sum()['Amount']\n",
    "new['60'] = cleaned_transactions[cond5].groupby('Origin').sum()['Amount']\n",
    "new['72'] = cleaned_transactions[cond6].groupby('Origin').sum()['Amount']\n",
    "\n",
    "#To replace redundant equal data with nan\n",
    "is_duplicate = new.apply(pd.Series.duplicated, axis=1)\n",
    "new_display = new.where(~is_duplicate, np.nan)\n",
    "\n",
    "#To display two decimal places\n",
    "pd.options.display.float_format = '{:.2f}'.format\n",
    "\n",
    "#To display replace nan with empty space \n",
    "print(new_display.replace(np.nan,' '))\n",
    "\n",
    "\n",
    "\n"
   ]
  },
  {
   "cell_type": "code",
   "execution_count": 5,
   "metadata": {
    "scrolled": false
   },
   "outputs": [
    {
     "name": "stdout",
     "output_type": "stream",
     "text": [
      "         12   24   36   48   60   72\n",
      "Origin                              \n",
      "2010    172  172  172  172  172  172\n",
      "2011    170  170  170  170  170  170\n",
      "2012    163  163  163  163  163  163\n",
      "2013    180  180  180  180  180  180\n",
      "2014    155  155  155  155  155  155\n",
      "2015    160  160  160  160  160  160\n"
     ]
    }
   ],
   "source": [
    "#The dataframe to store the actual aquisition per origin\n",
    "no_of_cust = pd.DataFrame()\n",
    "\n",
    "#Keeping only first transaction from each customer id to count the no of customers\n",
    "no_of_cust = cleaned_transactions.drop_duplicates(['CustomerID'], keep ='first')\n",
    "\n",
    "#Assigning the value to all age groups as the count is age independent \n",
    "no_of_cust = no_of_cust.groupby('Origin').count()\n",
    "no_of_cust['12'] =  no_of_cust['CustomerID']\n",
    "no_of_cust['24'] =  no_of_cust['CustomerID']\n",
    "no_of_cust['36'] =  no_of_cust['CustomerID']\n",
    "no_of_cust['48'] =  no_of_cust['CustomerID']\n",
    "no_of_cust['60'] =  no_of_cust['CustomerID']\n",
    "no_of_cust['72'] =  no_of_cust['CustomerID']\n",
    "\n",
    "no_of_cust = no_of_cust.drop(['TransactionID', 'CustomerID', 'Amount'], axis = 1)\n",
    "\n",
    "print(no_of_cust)"
   ]
  },
  {
   "cell_type": "code",
   "execution_count": 6,
   "metadata": {},
   "outputs": [
    {
     "name": "stdout",
     "output_type": "stream",
     "text": [
      "          12    24    36    48    60    72\n",
      "Origin                                    \n",
      "2010   13.14 21.02 30.67 38.56 46.11 52.12\n",
      "2011   13.17 22.10 32.15 39.42 46.24      \n",
      "2012   13.38 23.77 32.07 39.89            \n",
      "2013   12.11 20.05 29.04                  \n",
      "2014   11.81 21.05                        \n",
      "2015   11.95                              \n"
     ]
    },
    {
     "data": {
      "image/png": "[encoded data removed]",
      "text/plain": [
       "<Figure size 432x288 with 1 Axes>"
      ]
     },
     "metadata": {
      "needs_background": "light"
     },
     "output_type": "display_data"
    },
    {
     "name": "stdout",
     "output_type": "stream",
     "text": [
      "     HistoricCLV\n",
      "Age             \n",
      "12         12.60\n",
      "24         20.03\n",
      "36         26.37\n",
      "48         30.24\n",
      "60         32.69\n",
      "72         33.73\n"
     ]
    },
    {
     "data": {
      "image/png": "[encoded data removed]",
      "text/plain": [
       "<Figure size 432x288 with 1 Axes>"
      ]
     },
     "metadata": {
      "needs_background": "light"
     },
     "output_type": "display_data"
    }
   ],
   "source": [
    "#Calculate historic clv by using the above two data frames\n",
    "historic_clv = new_display/no_of_cust\n",
    "\n",
    "#Replace Nan before printing\n",
    "print(historic_clv.replace(np.nan,' '))\n",
    "\n",
    "#Plotting the Historic CLV data for each origin \n",
    "plot_clv = historic_clv.transpose()\n",
    "fig,ax = plt.subplots()\n",
    "plot_clv.plot(style='.-', kind='line', ax = ax)\n",
    "plt.xlabel('Age')\n",
    "plt.ylabel('HistoricCLV')\n",
    "plt.show()\n",
    "\n",
    "#Calculate the weighted avg CLV\n",
    "cumulative_clv = new.sum()/no_of_cust.sum()\n",
    "df_cumulative_clv = pd.DataFrame({'Age':cumulative_clv.index, 'HistoricCLV':cumulative_clv.values})\n",
    "df_cumulative_clv = df_cumulative_clv.set_index('Age')\n",
    "print(df_cumulative_clv)\n",
    "\n",
    "#Plotting the weighted avg CLV\n",
    "cumulative_clv.plot(style='.-', kind='line')\n",
    "plt.xlabel('Age')\n",
    "plt.ylabel('HistoricCLV')\n",
    "plt.show()\n",
    "\n",
    "\n"
   ]
  },
  {
   "cell_type": "code",
   "execution_count": 7,
   "metadata": {},
   "outputs": [
    {
     "name": "stdout",
     "output_type": "stream",
     "text": [
      "Customers with origin 2011 have spent 7861.240000000003\n",
      "Max Historic CLV at 2011 46.242588235294136\n"
     ]
    }
   ],
   "source": [
    "\n",
    "\n",
    "#Customers aquired in 2011\n",
    "#Amount spent by customers aquired in 2011\n",
    "maxAmt = new.max(axis=1)\n",
    "maxCLV = historic_clv.max(axis=1)\n",
    "print(\"Customers with origin 2011 have spent \" + str(maxAmt[2011]) )\n",
    "print(\"Max Historic CLV at 2011 \" + str(maxCLV[2011]) )\n",
    "\n",
    "#As can be seen above weighted avg historic CLV graph: with increase in age the avg weighted historic CLV value is increasing\n",
    "#For all year origins there is an upward trend with age noticed as can be seen from the graphs above"
   ]
  },
  {
   "cell_type": "code",
   "execution_count": null,
   "metadata": {},
   "outputs": [],
   "source": []
  }
 ],
 "metadata": {
  "kernelspec": {
   "display_name": "Python 3",
   "language": "python",
   "name": "python3"
  },
  "language_info": {
   "codemirror_mode": {
    "name": "ipython",
    "version": 3
   },
   "file_extension": ".py",
   "mimetype": "text/x-python",
   "name": "python",
   "nbconvert_exporter": "python",
   "pygments_lexer": "ipython3",
   "version": "3.7.1"
  }
 },
 "nbformat": 4,
 "nbformat_minor": 2
}
